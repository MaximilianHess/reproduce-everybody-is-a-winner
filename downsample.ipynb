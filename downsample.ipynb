{
 "cells": [
  {
   "cell_type": "code",
   "execution_count": 2,
   "metadata": {},
   "outputs": [],
   "source": [
    "import pandas as pd\n",
    "\n",
    "df = pd.read_csv(\"/data/raid5/data/maximilian_hess/RecSys2023_hyperparameter_tuning/data/amazon_music/dataset copy.tsv\", sep = \"\\t\")\n",
    "\n",
    "df = df.sample(frac = 0.45, random_state=42)\n",
    "\n",
    "df.to_csv(\"/data/raid5/data/maximilian_hess/RecSys2023_hyperparameter_tuning/data/amazon_music/dataset.tsv\", index=False, sep=\"\\t\")\n",
    "\n",
    "  \n",
    "\n",
    "df = pd.read_csv(\"/data/raid5/data/maximilian_hess/RecSys2023_hyperparameter_tuning/data/movielens_1m/dataset copy.tsv\", sep = \"\\t\")\n",
    "\n",
    "df = df.sample(frac = 0.07, random_state=42)\n",
    "\n",
    "\n",
    "df.to_csv(\"/data/raid5/data/maximilian_hess/RecSys2023_hyperparameter_tuning/data/movielens_1m/dataset.tsv\", index=False, sep=\"\\t\")\n",
    "\n",
    "  \n",
    "\n",
    "df = pd.read_csv(\"/data/raid5/data/maximilian_hess/RecSys2023_hyperparameter_tuning/data/epinions/dataset copy.tsv\", sep = \"\\t\")\n",
    "\n",
    "df = df.sample(frac = 0.1, random_state=42)\n",
    "\n",
    "df.to_csv(\"/data/raid5/data/maximilian_hess/RecSys2023_hyperparameter_tuning/data/epinions/dataset.tsv\", index=False, sep=\"\\t\")"
   ]
  }
 ],
 "metadata": {
  "kernelspec": {
   "display_name": "elliot_env",
   "language": "python",
   "name": "python3"
  },
  "language_info": {
   "codemirror_mode": {
    "name": "ipython",
    "version": 3
   },
   "file_extension": ".py",
   "mimetype": "text/x-python",
   "name": "python",
   "nbconvert_exporter": "python",
   "pygments_lexer": "ipython3",
   "version": "3.8.20"
  }
 },
 "nbformat": 4,
 "nbformat_minor": 2
}
